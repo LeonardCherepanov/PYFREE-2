{
 "cells": [
  {
   "cell_type": "code",
   "execution_count": 1,
   "metadata": {},
   "outputs": [
    {
     "name": "stdout",
     "output_type": "stream",
     "text": [
      "Введите дату: 21.01.2021\n",
      "Введите задачу: помыться\n",
      "21.01.2021 помыться\n"
     ]
    }
   ],
   "source": [
    "# Введите дату: Сегодня\n",
    "# Введите задачу: Сделать все дела\n",
    "# Сегодня Сделать все дела\n",
    "a = input('Введите дату: ')\n",
    "b = input('Введите задачу: ')\n",
    "print(a+' '+b)"
   ]
  },
  {
   "cell_type": "code",
   "execution_count": 2,
   "metadata": {},
   "outputs": [
    {
     "name": "stdout",
     "output_type": "stream",
     "text": [
      "Введите дату: сегодня\n",
      "Введите задачу: побриться\n",
      "Введите дату: завтра\n",
      "Введите задачу: одеться\n",
      "Введите дату: послезавтра\n",
      "Введите задачу: пообедать\n",
      "сегодня побриться\n",
      "завтра одеться\n",
      "послезавтра пообедать\n"
     ]
    }
   ],
   "source": [
    "# Введите дату: Сегодня\n",
    "# Введите задачу: Выучить Python\n",
    "# Введите дату: Завтра\n",
    "# Введите задачу: Разработать TODO-приложение\n",
    "# Введите дату: Послезавтра\n",
    "# Введите задачу: Разработать Telegram-бота\n",
    "# Сегодня Выучить Python\n",
    "# Завтра Разработать TODO-приложение\n",
    "# Послезавтра Разработать Telegram-бота\n",
    "a = input('Введите дату: ')\n",
    "b = input('Введите задачу: ')\n",
    "a2 = input('Введите дату: ')\n",
    "b2 = input('Введите задачу: ')\n",
    "a3 = input('Введите дату: ')\n",
    "b3 = input('Введите задачу: ')\n",
    "print(a+' '+b)\n",
    "print(a2+' '+b2)\n",
    "print(a3+' '+b3)"
   ]
  },
  {
   "cell_type": "code",
   "execution_count": 4,
   "metadata": {},
   "outputs": [
    {
     "name": "stdout",
     "output_type": "stream",
     "text": [
      "Введите дату: Сегодня\n",
      "Введите задачу: Выучить Python\n",
      "Введите дату: Завтра\n",
      "Введите задачу: Разработать TODO-приложение\n",
      "Введите дату: Послезавтра\n",
      "Введите задачу: Разработать Telegram-бота\n",
      "{'Сегодня': 'Выучить Python', 'Завтра': 'Разработать TODO-приложение', 'Послезавтра': 'Разработать Telegram-бота'}\n"
     ]
    }
   ],
   "source": [
    "# Введите дату: Сегодня\n",
    "# Введите задачу: Выучить Python\n",
    "# Введите дату: Завтра\n",
    "# Введите задачу: Разработать TODO-приложение\n",
    "# Введите дату: Послезавтра\n",
    "# Введите задачу: Разработать Telegram-бота\n",
    "TODO = {}\n",
    "a = input('Введите дату: ')\n",
    "TODO[a] = input('Введите задачу: ')\n",
    "b = input('Введите дату: ')\n",
    "TODO[b] = input('Введите задачу: ')\n",
    "c = input('Введите дату: ')\n",
    "TODO[c] = input('Введите задачу: ')"
   ]
  },
  {
   "cell_type": "code",
   "execution_count": null,
   "metadata": {},
   "outputs": [],
   "source": []
  }
 ],
 "metadata": {
  "kernelspec": {
   "display_name": "Python 3",
   "language": "python",
   "name": "python3"
  },
  "language_info": {
   "codemirror_mode": {
    "name": "ipython",
    "version": 3
   },
   "file_extension": ".py",
   "mimetype": "text/x-python",
   "name": "python",
   "nbconvert_exporter": "python",
   "pygments_lexer": "ipython3",
   "version": "3.8.5"
  }
 },
 "nbformat": 4,
 "nbformat_minor": 4
}
