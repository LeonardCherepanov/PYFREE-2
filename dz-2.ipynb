{
 "cells": [
  {
   "cell_type": "code",
   "execution_count": 4,
   "metadata": {},
   "outputs": [
    {
     "name": "stdout",
     "output_type": "stream",
     "text": [
      "Доступные команды: \n",
      "help - Напечатать справку\n",
      "add - добавить задачу в список\n",
      "print - напечатать все задачи из списка\n",
      "Введите команду: exit\n",
      "Спасибо за использование! До свидания!\n"
     ]
    }
   ],
   "source": [
    "HELP = \"\"\"Доступные команды: \n",
    "help - Напечатать справку\n",
    "add - добавить задачу в список\n",
    "print - напечатать все задачи из списка\"\"\"\n",
    "\n",
    "tasks = ['Убраться дома']\n",
    "\n",
    "print(HELP)\n",
    "\n",
    "while True: # True == True верно всегда \n",
    "  # Будет выполняться всегда (бесконечно)\n",
    "    command = input('Введите команду: ')\n",
    "    command = command.strip().lower()\n",
    "    if command == 'help':\n",
    "        print(HELP)\n",
    "    elif command == 'add':\n",
    "        date = input('Введите дату: ')\n",
    "        task = input('Введите задачу: ')\n",
    "        if date == ...:\n",
    "            ...\n",
    "        elif date == ...:\n",
    "         ...\n",
    "        tasks.append(task)\n",
    "    elif command == 'print':\n",
    "        print(tasks)\n",
    "    elif command == 'exit':\n",
    "        print('Спасибо за использование! До свидания!')\n",
    "        break\n",
    "    else:\n",
    "    # Пока не встретится ключевое слово break\n",
    "        print('Неизвестная команда')\n",
    "        break\n"
   ]
  },
  {
   "cell_type": "code",
   "execution_count": 12,
   "metadata": {},
   "outputs": [
    {
     "name": "stdout",
     "output_type": "stream",
     "text": [
      "Доступные команды: \n",
      "help - Напечатать справку\n",
      "add - добавить задачу в список\n",
      "print - напечатать все задачи из списка\n",
      "Введите команду: todo\n",
      "Введите задачу: Сделать ДЗ\n",
      "Введите команду: todo\n",
      "Введите задачу: Ничего не делать\n",
      "Введите команду: print\n",
      "Убраться дома\n",
      "Сделать ДЗ\n",
      "Ничего не делать\n",
      "Введите команду: exit\n",
      "Спасибо за использование! До свидания!\n"
     ]
    }
   ],
   "source": [
    "HELP = \"\"\"Доступные команды: \n",
    "help - Напечатать справку\n",
    "add - добавить задачу в список\n",
    "print - напечатать все задачи из списка\"\"\"\n",
    "\n",
    "tasks = ['Убраться дома']\n",
    "\n",
    "print(HELP)\n",
    "\n",
    "while True: # True == True верно всегда \n",
    "  # Будет выполняться всегда (бесконечно)\n",
    "    command = input('Введите команду: ')\n",
    "    command = command.strip().lower()\n",
    "    if command == 'help':\n",
    "        print(HELP)\n",
    "    elif command == 'todo':\n",
    "        task = input('Введите задачу: ')\n",
    "        tasks.append(task)\n",
    "    elif command == 'print':\n",
    "        for task in tasks:\n",
    "            print(task)\n",
    "    elif command == 'exit':\n",
    "        print('Спасибо за использование! До свидания!')\n",
    "        break\n",
    "    else:\n",
    "    # Пока не встретится ключевое слово break\n",
    "        print('Неизвестная команда')\n",
    "        break"
   ]
  },
  {
   "cell_type": "code",
   "execution_count": 10,
   "metadata": {},
   "outputs": [
    {
     "name": "stdout",
     "output_type": "stream",
     "text": [
      "Введите команду: todo\n",
      "Введите дату: Сегодня\n",
      "Введите задачу: поесть\n",
      "Введите команду: todo\n",
      "Введите дату: Завтра\n",
      "Введите задачу: поспать\n",
      "Введите команду: print\n",
      "['поесть']\n",
      "['поспать']\n",
      "[]\n"
     ]
    }
   ],
   "source": [
    "today = []\n",
    "tomorrow = []\n",
    "other = []\n",
    "\n",
    "while True: # True == True верно всегда \n",
    "  # Будет выполняться всегда (бесконечно)\n",
    "    command = input('Введите команду: ')\n",
    "    command = command.strip().lower()\n",
    "    if command == 'todo':\n",
    "        date = input('Введите дату: ')\n",
    "        task = input('Введите задачу: ')\n",
    "        if date == 'Сегодня':\n",
    "            today.append(task)\n",
    "        elif date == 'Завтра':\n",
    "            tomorrow.append(task)\n",
    "        else:\n",
    "            other.append(task)\n",
    "    elif command == 'print':\n",
    "        print(today)\n",
    "        print(tomorrow)\n",
    "        print(other)\n",
    "        break"
   ]
  },
  {
   "cell_type": "code",
   "execution_count": null,
   "metadata": {},
   "outputs": [],
   "source": []
  }
 ],
 "metadata": {
  "kernelspec": {
   "display_name": "Python 3",
   "language": "python",
   "name": "python3"
  },
  "language_info": {
   "codemirror_mode": {
    "name": "ipython",
    "version": 3
   },
   "file_extension": ".py",
   "mimetype": "text/x-python",
   "name": "python",
   "nbconvert_exporter": "python",
   "pygments_lexer": "ipython3",
   "version": "3.8.5"
  }
 },
 "nbformat": 4,
 "nbformat_minor": 4
}
